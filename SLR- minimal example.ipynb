{
 "cells": [
  {
   "cell_type": "markdown",
   "metadata": {},
   "source": [
    "## Smiple linear regression - minimal example"
   ]
  },
  {
   "cell_type": "code",
   "execution_count": 1,
   "metadata": {
    "collapsed": true
   },
   "outputs": [],
   "source": []
  },
  {
   "cell_type": "code",
   "execution_count": 42,
   "metadata": {},
   "outputs": [
    {
     "ename": "SyntaxError",
     "evalue": "invalid syntax (<ipython-input-42-a0cf7bc56c44>, line 3)",
     "output_type": "error",
     "traceback": [
      "\u001b[1;36m  File \u001b[1;32m\"<ipython-input-42-a0cf7bc56c44>\"\u001b[1;36m, line \u001b[1;32m3\u001b[0m\n\u001b[1;33m    from mpl_toolkits.mplot3d as Axes3D\u001b[0m\n\u001b[1;37m                               ^\u001b[0m\n\u001b[1;31mSyntaxError\u001b[0m\u001b[1;31m:\u001b[0m invalid syntax\n"
     ]
    }
   ],
   "source": [
    "import numpy as np\n",
    "import matplotlib.pyplot as plt\n",
    "from mpl_toolkits.mplot3d as Axes3D"
   ]
  },
  {
   "cell_type": "code",
   "execution_count": 43,
   "metadata": {
    "collapsed": true
   },
   "outputs": [],
   "source": [
    "import numpy as np\n",
    "\n",
    "# matplotlib and mpl_toolkits are not necessary. We employ them for the sole purpose of visualizing the results.  \n",
    "import matplotlib.pyplot as plt\n",
    "from mpl_toolkits.mplot3d import Axes3D"
   ]
  },
  {
   "cell_type": "markdown",
   "metadata": {},
   "source": [
    "Generate random data to train on"
   ]
  },
  {
   "cell_type": "code",
   "execution_count": 13,
   "metadata": {},
   "outputs": [
    {
     "name": "stdout",
     "output_type": "stream",
     "text": [
      "(1000, 2)\n"
     ]
    }
   ],
   "source": [
    "observation = 1000\n",
    "\n",
    "xs = np.random.uniform(-10,10,size=(observation,1))\n",
    "zs = np.random.uniform(-10,10, size=(observation,1) )\n",
    "\n",
    "## combine them in one matrix\n",
    "\n",
    "inputs = np.column_stack((xs,zs))\n",
    "\n",
    "print(inputs.shape)\n"
   ]
  },
  {
   "cell_type": "markdown",
   "metadata": {
    "collapsed": true
   },
   "source": [
    "create target we will aim at"
   ]
  },
  {
   "cell_type": "code",
   "execution_count": 14,
   "metadata": {
    "collapsed": true
   },
   "outputs": [],
   "source": [
    "## targets = f(x,z) = 2x -3z +5 +noise\n"
   ]
  },
  {
   "cell_type": "code",
   "execution_count": 16,
   "metadata": {},
   "outputs": [
    {
     "name": "stdout",
     "output_type": "stream",
     "text": [
      "(1000, 1)\n"
     ]
    }
   ],
   "source": [
    "noise = np.random.uniform(-1,1,(observation,1))\n",
    "\n",
    "targets = 2*xs -3*zs +5 + noise\n",
    "print(targets.shape)"
   ]
  },
  {
   "cell_type": "markdown",
   "metadata": {
    "collapsed": true
   },
   "source": [
    "plot the training data"
   ]
  },
  {
   "cell_type": "markdown",
   "metadata": {},
   "source": [
    "##initialize variables"
   ]
  },
  {
   "cell_type": "code",
   "execution_count": 18,
   "metadata": {},
   "outputs": [
    {
     "name": "stdout",
     "output_type": "stream",
     "text": [
      "[[0.06498984]\n",
      " [0.00259774]]\n",
      "[[-0.03111773]]\n"
     ]
    }
   ],
   "source": [
    "init_range = 0.1\n",
    "weights = np.random.uniform(-init_range, init_range, (2,1))\n",
    "biases  = np.random.uniform(-init_range, init_range, (1,1))\n",
    "\n",
    "print(weights)\n",
    "print(biases)\n"
   ]
  },
  {
   "cell_type": "code",
   "execution_count": 19,
   "metadata": {},
   "outputs": [
    {
     "name": "stdout",
     "output_type": "stream",
     "text": [
      "[[0.02693951]\n",
      " [0.02093848]]\n",
      "[[-0.09540145]]\n"
     ]
    }
   ],
   "source": [
    "init_range = 0.1\n",
    "weights = np.random.uniform(-init_range, init_range, (2,1))\n",
    "biases  = np.random.uniform(-init_range, init_range, (1,1))\n",
    "\n",
    "print(weights)\n",
    "print(biases)"
   ]
  },
  {
   "cell_type": "code",
   "execution_count": 20,
   "metadata": {
    "collapsed": true
   },
   "outputs": [],
   "source": [
    "## every time we run the code we get diff result"
   ]
  },
  {
   "cell_type": "code",
   "execution_count": null,
   "metadata": {
    "collapsed": true
   },
   "outputs": [],
   "source": []
  },
  {
   "cell_type": "code",
   "execution_count": null,
   "metadata": {
    "collapsed": true
   },
   "outputs": [],
   "source": []
  },
  {
   "cell_type": "code",
   "execution_count": null,
   "metadata": {
    "collapsed": true
   },
   "outputs": [],
   "source": []
  },
  {
   "cell_type": "code",
   "execution_count": null,
   "metadata": {
    "collapsed": true
   },
   "outputs": [],
   "source": []
  },
  {
   "cell_type": "code",
   "execution_count": null,
   "metadata": {
    "collapsed": true
   },
   "outputs": [],
   "source": []
  },
  {
   "cell_type": "code",
   "execution_count": null,
   "metadata": {
    "collapsed": true
   },
   "outputs": [],
   "source": []
  },
  {
   "cell_type": "code",
   "execution_count": null,
   "metadata": {
    "collapsed": true
   },
   "outputs": [],
   "source": []
  },
  {
   "cell_type": "code",
   "execution_count": null,
   "metadata": {
    "collapsed": true
   },
   "outputs": [],
   "source": []
  },
  {
   "cell_type": "code",
   "execution_count": null,
   "metadata": {
    "collapsed": true
   },
   "outputs": [],
   "source": []
  },
  {
   "cell_type": "code",
   "execution_count": 21,
   "metadata": {
    "collapsed": true
   },
   "outputs": [],
   "source": [
    "## we must design a Learning rate (eta)"
   ]
  },
  {
   "cell_type": "code",
   "execution_count": 22,
   "metadata": {
    "collapsed": true
   },
   "outputs": [],
   "source": [
    "learning_rate = 0.02"
   ]
  },
  {
   "cell_type": "code",
   "execution_count": null,
   "metadata": {
    "collapsed": true
   },
   "outputs": [],
   "source": []
  },
  {
   "cell_type": "code",
   "execution_count": 23,
   "metadata": {
    "collapsed": true
   },
   "outputs": [],
   "source": [
    "## make our model learn\n"
   ]
  },
  {
   "cell_type": "code",
   "execution_count": 24,
   "metadata": {
    "collapsed": true
   },
   "outputs": [],
   "source": [
    "## lets use a for loop for iterattions"
   ]
  },
  {
   "cell_type": "code",
   "execution_count": 25,
   "metadata": {
    "collapsed": true
   },
   "outputs": [],
   "source": [
    "## game plan for each iteration\n",
    "\n",
    "#calculate outputs\n",
    "#compare o/p to target through the loss function\n",
    "#print the loss\n",
    "#Adjust weights and biases\n",
    "\n",
    "## repeat the process"
   ]
  },
  {
   "cell_type": "code",
   "execution_count": 35,
   "metadata": {},
   "outputs": [
    {
     "name": "stdout",
     "output_type": "stream",
     "text": [
      "0.37815004830935195\n",
      "0.3697000764954159\n",
      "0.3615840915512897\n",
      "0.35378889257741314\n",
      "0.3463018004424887\n",
      "0.3391106371604866\n",
      "0.3322037060827721\n",
      "0.32556977287314953\n",
      "0.319198047234865\n",
      "0.3130781653598586\n",
      "0.307200173071711\n",
      "0.30155450963486713\n",
      "0.296131992203808\n",
      "0.29092380088686715\n",
      "0.28592146440040606\n",
      "0.28111684629000977\n",
      "0.27650213169629506\n",
      "0.2720698146437978\n",
      "0.2678126858322748\n",
      "0.2637238209105548\n",
      "0.25979656921386696\n",
      "0.25602454294633037\n",
      "0.2524016067910066\n",
      "0.24892186793061802\n",
      "0.24557966646270019\n",
      "0.24236956619359365\n",
      "0.23928634579630936\n",
      "0.23632499031787904\n",
      "0.2334806830223791\n",
      "0.2307487975563621\n",
      "0.2281248904239493\n",
      "0.22560469375934936\n",
      "0.22318410838504116\n",
      "0.2208591971443362\n",
      "0.21862617849747298\n",
      "0.21648142037082363\n",
      "0.2144214342492166\n",
      "0.21244286950175814\n",
      "0.2105425079319279\n",
      "0.208717258543084\n",
      "0.20696415251085978\n",
      "0.2052803383542821\n",
      "0.20366307729774788\n",
      "0.20210973881632174\n",
      "0.20061779635710617\n",
      "0.1991848232297252\n",
      "0.19780848865923822\n",
      "0.19648655399506196\n",
      "0.19521686906973737\n",
      "0.19399736870161477\n",
      "0.19282606933577404\n",
      "0.19170106581770882\n",
      "0.19062052829453666\n",
      "0.18958269923868482\n",
      "0.18858589058921965\n",
      "0.18762848100616145\n",
      "0.18670891323332586\n",
      "0.18582569156539955\n",
      "0.18497737941512765\n",
      "0.18416259697666176\n",
      "0.18338001898126316\n",
      "0.1826283725417109\n",
      "0.1819064350819135\n",
      "0.18121303234835032\n",
      "0.18054703650011172\n",
      "0.17990736427443152\n",
      "0.1792929752247269\n",
      "0.17870287002827925\n",
      "0.17813608886080573\n",
      "0.17759170983527542\n",
      "0.17706884750243138\n",
      "0.17656665141057987\n",
      "0.1760843047223055\n",
      "0.1756210228858585\n",
      "0.17517605235905853\n",
      "0.17474866938363484\n",
      "0.17433817880801009\n",
      "0.1739439129566161\n",
      "0.17356523054389875\n",
      "0.17320151563124642\n",
      "0.1728521766251479\n",
      "0.17251664531494687\n",
      "0.17219437594862985\n",
      "0.17188484434514345\n",
      "0.17158754704179832\n",
      "0.17130200047537064\n",
      "0.1710277401955729\n",
      "0.17076432010961015\n",
      "0.17051131175659667\n",
      "0.1702683036106511\n",
      "0.17003490041153732\n",
      "0.169810722521761\n",
      "0.1695954053090775\n",
      "0.16938859855340663\n",
      "0.16918996587718868\n",
      "0.16899918419825602\n",
      "0.16881594320433\n",
      "0.16863994484828843\n",
      "0.16847090286338268\n",
      "0.16830854229761652\n"
     ]
    }
   ],
   "source": [
    "for i in range(100):\n",
    "    outputs = np.dot(inputs, weights)+ biases\n",
    "    deltas = outputs - targets\n",
    "    \n",
    "    ## mean loss = divde by observations\n",
    "    ## divideing by 2 will reduce the value withiut changing the logic\n",
    "    loss = np.sum(deltas** 2)/2/ observation\n",
    "    \n",
    "    \n",
    "    print(loss)\n",
    "    deltas_scaled = deltas/observation\n",
    "\n",
    "\n",
    "\n",
    "## update biases and weights\n",
    "    weights  = weights - learning_rate * np.dot(inputs.T, deltas_scaled)\n",
    "    biases = biases - learning_rate * np.sum(deltas_scaled)"
   ]
  },
  {
   "cell_type": "code",
   "execution_count": 28,
   "metadata": {
    "collapsed": true
   },
   "outputs": [],
   "source": [
    "## print weights and biases and see if they worked correctly"
   ]
  },
  {
   "cell_type": "code",
   "execution_count": 36,
   "metadata": {},
   "outputs": [
    {
     "name": "stdout",
     "output_type": "stream",
     "text": [
      "[[ 1.99901908]\n",
      " [-2.99813834]] [[4.92746012]]\n"
     ]
    }
   ],
   "source": [
    "print(weights, biases)\n",
    "\n"
   ]
  },
  {
   "cell_type": "code",
   "execution_count": 37,
   "metadata": {
    "collapsed": true
   },
   "outputs": [],
   "source": [
    "## plot"
   ]
  },
  {
   "cell_type": "code",
   "execution_count": 40,
   "metadata": {},
   "outputs": [
    {
     "data": {
      "image/png": "[encoded data removed]",
      "text/plain": [
       "<matplotlib.figure.Figure at 0x21b1769eb70>"
      ]
     },
     "metadata": {},
     "output_type": "display_data"
    }
   ],
   "source": [
    "plt.plot(outputs, targets)\n",
    "plt.show()"
   ]
  },
  {
   "cell_type": "code",
   "execution_count": null,
   "metadata": {
    "collapsed": true
   },
   "outputs": [],
   "source": []
  }
 ],
 "metadata": {
  "kernelspec": {
   "display_name": "Python 3",
   "language": "python",
   "name": "python3"
  },
  "language_info": {
   "codemirror_mode": {
    "name": "ipython",
    "version": 3
   },
   "file_extension": ".py",
   "mimetype": "text/x-python",
   "name": "python",
   "nbconvert_exporter": "python",
   "pygments_lexer": "ipython3",
   "version": "3.6.3"
  }
 },
 "nbformat": 4,
 "nbformat_minor": 2
}

{
 "cells": [
  {
   "cell_type": "code",
   "execution_count": 1,
   "metadata": {
    "collapsed": true
   },
   "outputs": [],
   "source": [
    "## pandas best practices\n"
   ]
  },
  {
   "cell_type": "code",
   "execution_count": 1,
   "metadata": {
    "collapsed": true
   },
   "outputs": [],
   "source": [
    "import pandas as pd"
   ]
  },
  {
   "cell_type": "code",
   "execution_count": 2,
   "metadata": {
    "collapsed": true
   },
   "outputs": [],
   "source": [
    "import matplotlib.pyplot as plt"
   ]
  },
  {
   "cell_type": "code",
   "execution_count": 3,
   "metadata": {
    "collapsed": true
   },
   "outputs": [],
   "source": [
    "%matplotlib inline"
   ]
  },
  {
   "cell_type": "code",
   "execution_count": 4,
   "metadata": {
    "collapsed": true
   },
   "outputs": [],
   "source": [
    "ri = pd.read_csv('Datasets/police.csv')"
   ]
  },
  {
   "cell_type": "code",
   "execution_count": 5,
   "metadata": {},
   "outputs": [
    {
     "data": {
      "text/html": [
       "<div>\n",
       "<style scoped>\n",
       "    .dataframe tbody tr th:only-of-type {\n",
       "        vertical-align: middle;\n",
       "    }\n",
       "\n",
       "    .dataframe tbody tr th {\n",
       "        vertical-align: top;\n",
       "    }\n",
       "\n",
       "    .dataframe thead th {\n",
       "        text-align: right;\n",
       "    }\n",
       "</style>\n",
       "<table border=\"1\" class=\"dataframe\">\n",
       "  <thead>\n",
       "    <tr style=\"text-align: right;\">\n",
       "      <th></th>\n",
       "      <th>stop_date</th>\n",
       "      <th>stop_time</th>\n",
       "      <th>county_name</th>\n",
       "      <th>driver_gender</th>\n",
       "      <th>driver_age_raw</th>\n",
       "      <th>driver_age</th>\n",
       "      <th>driver_race</th>\n",
       "      <th>violation_raw</th>\n",
       "      <th>violation</th>\n",
       "      <th>search_conducted</th>\n",
       "      <th>search_type</th>\n",
       "      <th>stop_outcome</th>\n",
       "      <th>is_arrested</th>\n",
       "      <th>stop_duration</th>\n",
       "      <th>drugs_related_stop</th>\n",
       "    </tr>\n",
       "  </thead>\n",
       "  <tbody>\n",
       "    <tr>\n",
       "      <th>0</th>\n",
       "      <td>2005-01-02</td>\n",
       "      <td>01:55</td>\n",
       "      <td>NaN</td>\n",
       "      <td>M</td>\n",
       "      <td>1985.0</td>\n",
       "      <td>20.0</td>\n",
       "      <td>White</td>\n",
       "      <td>Speeding</td>\n",
       "      <td>Speeding</td>\n",
       "      <td>False</td>\n",
       "      <td>NaN</td>\n",
       "      <td>Citation</td>\n",
       "      <td>False</td>\n",
       "      <td>0-15 Min</td>\n",
       "      <td>False</td>\n",
       "    </tr>\n",
       "    <tr>\n",
       "      <th>1</th>\n",
       "      <td>2005-01-18</td>\n",
       "      <td>08:15</td>\n",
       "      <td>NaN</td>\n",
       "      <td>M</td>\n",
       "      <td>1965.0</td>\n",
       "      <td>40.0</td>\n",
       "      <td>White</td>\n",
       "      <td>Speeding</td>\n",
       "      <td>Speeding</td>\n",
       "      <td>False</td>\n",
       "      <td>NaN</td>\n",
       "      <td>Citation</td>\n",
       "      <td>False</td>\n",
       "      <td>0-15 Min</td>\n",
       "      <td>False</td>\n",
       "    </tr>\n",
       "    <tr>\n",
       "      <th>2</th>\n",
       "      <td>2005-01-23</td>\n",
       "      <td>23:15</td>\n",
       "      <td>NaN</td>\n",
       "      <td>M</td>\n",
       "      <td>1972.0</td>\n",
       "      <td>33.0</td>\n",
       "      <td>White</td>\n",
       "      <td>Speeding</td>\n",
       "      <td>Speeding</td>\n",
       "      <td>False</td>\n",
       "      <td>NaN</td>\n",
       "      <td>Citation</td>\n",
       "      <td>False</td>\n",
       "      <td>0-15 Min</td>\n",
       "      <td>False</td>\n",
       "    </tr>\n",
       "    <tr>\n",
       "      <th>3</th>\n",
       "      <td>2005-02-20</td>\n",
       "      <td>17:15</td>\n",
       "      <td>NaN</td>\n",
       "      <td>M</td>\n",
       "      <td>1986.0</td>\n",
       "      <td>19.0</td>\n",
       "      <td>White</td>\n",
       "      <td>Call for Service</td>\n",
       "      <td>Other</td>\n",
       "      <td>False</td>\n",
       "      <td>NaN</td>\n",
       "      <td>Arrest Driver</td>\n",
       "      <td>True</td>\n",
       "      <td>16-30 Min</td>\n",
       "      <td>False</td>\n",
       "    </tr>\n",
       "    <tr>\n",
       "      <th>4</th>\n",
       "      <td>2005-03-14</td>\n",
       "      <td>10:00</td>\n",
       "      <td>NaN</td>\n",
       "      <td>F</td>\n",
       "      <td>1984.0</td>\n",
       "      <td>21.0</td>\n",
       "      <td>White</td>\n",
       "      <td>Speeding</td>\n",
       "      <td>Speeding</td>\n",
       "      <td>False</td>\n",
       "      <td>NaN</td>\n",
       "      <td>Citation</td>\n",
       "      <td>False</td>\n",
       "      <td>0-15 Min</td>\n",
       "      <td>False</td>\n",
       "    </tr>\n",
       "  </tbody>\n",
       "</table>\n",
       "</div>"
      ],
      "text/plain": [
       "    stop_date stop_time  county_name driver_gender  driver_age_raw  \\\n",
       "0  2005-01-02     01:55          NaN             M          1985.0   \n",
       "1  2005-01-18     08:15          NaN             M          1965.0   \n",
       "2  2005-01-23     23:15          NaN             M          1972.0   \n",
       "3  2005-02-20     17:15          NaN             M          1986.0   \n",
       "4  2005-03-14     10:00          NaN             F          1984.0   \n",
       "\n",
       "   driver_age driver_race     violation_raw violation  search_conducted  \\\n",
       "0        20.0       White          Speeding  Speeding             False   \n",
       "1        40.0       White          Speeding  Speeding             False   \n",
       "2        33.0       White          Speeding  Speeding             False   \n",
       "3        19.0       White  Call for Service     Other             False   \n",
       "4        21.0       White          Speeding  Speeding             False   \n",
       "\n",
       "  search_type   stop_outcome is_arrested stop_duration  drugs_related_stop  \n",
       "0         NaN       Citation       False      0-15 Min               False  \n",
       "1         NaN       Citation       False      0-15 Min               False  \n",
       "2         NaN       Citation       False      0-15 Min               False  \n",
       "3         NaN  Arrest Driver        True     16-30 Min               False  \n",
       "4         NaN       Citation       False      0-15 Min               False  "
      ]
     },
     "execution_count": 5,
     "metadata": {},
     "output_type": "execute_result"
    }
   ],
   "source": [
    "ri.head()"
   ]
  },
  {
   "cell_type": "code",
   "execution_count": 8,
   "metadata": {},
   "outputs": [
    {
     "data": {
      "text/plain": [
       "(91741, 15)"
      ]
     },
     "execution_count": 8,
     "metadata": {},
     "output_type": "execute_result"
    }
   ],
   "source": [
    "ri.shape"
   ]
  },
  {
   "cell_type": "code",
   "execution_count": 10,
   "metadata": {},
   "outputs": [
    {
     "data": {
      "text/plain": [
       "stop_date              object\n",
       "stop_time              object\n",
       "county_name           float64\n",
       "driver_gender          object\n",
       "driver_age_raw        float64\n",
       "driver_age            float64\n",
       "driver_race            object\n",
       "violation_raw          object\n",
       "violation              object\n",
       "search_conducted         bool\n",
       "search_type            object\n",
       "stop_outcome           object\n",
       "is_arrested            object\n",
       "stop_duration          object\n",
       "drugs_related_stop       bool\n",
       "dtype: object"
      ]
     },
     "execution_count": 10,
     "metadata": {},
     "output_type": "execute_result"
    }
   ],
   "source": [
    "ri.dtypes"
   ]
  },
  {
   "cell_type": "code",
   "execution_count": 11,
   "metadata": {},
   "outputs": [
    {
     "data": {
      "text/plain": [
       "stop_date                 0\n",
       "stop_time                 0\n",
       "county_name           91741\n",
       "driver_gender          5335\n",
       "driver_age_raw         5327\n",
       "driver_age             5621\n",
       "driver_race            5333\n",
       "violation_raw          5333\n",
       "violation              5333\n",
       "search_conducted          0\n",
       "search_type           88545\n",
       "stop_outcome           5333\n",
       "is_arrested            5333\n",
       "stop_duration          5333\n",
       "drugs_related_stop        0\n",
       "dtype: int64"
      ]
     },
     "execution_count": 11,
     "metadata": {},
     "output_type": "execute_result"
    }
   ],
   "source": [
    "ri.isnull().sum()"
   ]
  },
  {
   "cell_type": "code",
   "execution_count": 12,
   "metadata": {},
   "outputs": [
    {
     "data": {
      "text/plain": [
       "0    2\n",
       "1    2\n",
       "2    2\n",
       "3    2\n",
       "4    2\n",
       "dtype: int64"
      ]
     },
     "execution_count": 12,
     "metadata": {},
     "output_type": "execute_result"
    }
   ],
   "source": [
    "ri.isnull().sum(axis =1).head()"
   ]
  },
  {
   "cell_type": "code",
   "execution_count": 13,
   "metadata": {
    "collapsed": true
   },
   "outputs": [],
   "source": [
    "## Remove the columns that contains missing values"
   ]
  },
  {
   "cell_type": "code",
   "execution_count": 14,
   "metadata": {
    "collapsed": true
   },
   "outputs": [],
   "source": [
    "ri.drop('county_name', axis = 1, inplace = True)"
   ]
  },
  {
   "cell_type": "code",
   "execution_count": 15,
   "metadata": {},
   "outputs": [
    {
     "data": {
      "text/html": [
       "<div>\n",
       "<style scoped>\n",
       "    .dataframe tbody tr th:only-of-type {\n",
       "        vertical-align: middle;\n",
       "    }\n",
       "\n",
       "    .dataframe tbody tr th {\n",
       "        vertical-align: top;\n",
       "    }\n",
       "\n",
       "    .dataframe thead th {\n",
       "        text-align: right;\n",
       "    }\n",
       "</style>\n",
       "<table border=\"1\" class=\"dataframe\">\n",
       "  <thead>\n",
       "    <tr style=\"text-align: right;\">\n",
       "      <th></th>\n",
       "      <th>stop_date</th>\n",
       "      <th>stop_time</th>\n",
       "      <th>driver_gender</th>\n",
       "      <th>driver_age_raw</th>\n",
       "      <th>driver_age</th>\n",
       "      <th>driver_race</th>\n",
       "      <th>violation_raw</th>\n",
       "      <th>violation</th>\n",
       "      <th>search_conducted</th>\n",
       "      <th>search_type</th>\n",
       "      <th>stop_outcome</th>\n",
       "      <th>is_arrested</th>\n",
       "      <th>stop_duration</th>\n",
       "      <th>drugs_related_stop</th>\n",
       "    </tr>\n",
       "  </thead>\n",
       "  <tbody>\n",
       "    <tr>\n",
       "      <th>0</th>\n",
       "      <td>2005-01-02</td>\n",
       "      <td>01:55</td>\n",
       "      <td>M</td>\n",
       "      <td>1985.0</td>\n",
       "      <td>20.0</td>\n",
       "      <td>White</td>\n",
       "      <td>Speeding</td>\n",
       "      <td>Speeding</td>\n",
       "      <td>False</td>\n",
       "      <td>NaN</td>\n",
       "      <td>Citation</td>\n",
       "      <td>False</td>\n",
       "      <td>0-15 Min</td>\n",
       "      <td>False</td>\n",
       "    </tr>\n",
       "    <tr>\n",
       "      <th>1</th>\n",
       "      <td>2005-01-18</td>\n",
       "      <td>08:15</td>\n",
       "      <td>M</td>\n",
       "      <td>1965.0</td>\n",
       "      <td>40.0</td>\n",
       "      <td>White</td>\n",
       "      <td>Speeding</td>\n",
       "      <td>Speeding</td>\n",
       "      <td>False</td>\n",
       "      <td>NaN</td>\n",
       "      <td>Citation</td>\n",
       "      <td>False</td>\n",
       "      <td>0-15 Min</td>\n",
       "      <td>False</td>\n",
       "    </tr>\n",
       "    <tr>\n",
       "      <th>2</th>\n",
       "      <td>2005-01-23</td>\n",
       "      <td>23:15</td>\n",
       "      <td>M</td>\n",
       "      <td>1972.0</td>\n",
       "      <td>33.0</td>\n",
       "      <td>White</td>\n",
       "      <td>Speeding</td>\n",
       "      <td>Speeding</td>\n",
       "      <td>False</td>\n",
       "      <td>NaN</td>\n",
       "      <td>Citation</td>\n",
       "      <td>False</td>\n",
       "      <td>0-15 Min</td>\n",
       "      <td>False</td>\n",
       "    </tr>\n",
       "    <tr>\n",
       "      <th>3</th>\n",
       "      <td>2005-02-20</td>\n",
       "      <td>17:15</td>\n",
       "      <td>M</td>\n",
       "      <td>1986.0</td>\n",
       "      <td>19.0</td>\n",
       "      <td>White</td>\n",
       "      <td>Call for Service</td>\n",
       "      <td>Other</td>\n",
       "      <td>False</td>\n",
       "      <td>NaN</td>\n",
       "      <td>Arrest Driver</td>\n",
       "      <td>True</td>\n",
       "      <td>16-30 Min</td>\n",
       "      <td>False</td>\n",
       "    </tr>\n",
       "    <tr>\n",
       "      <th>4</th>\n",
       "      <td>2005-03-14</td>\n",
       "      <td>10:00</td>\n",
       "      <td>F</td>\n",
       "      <td>1984.0</td>\n",
       "      <td>21.0</td>\n",
       "      <td>White</td>\n",
       "      <td>Speeding</td>\n",
       "      <td>Speeding</td>\n",
       "      <td>False</td>\n",
       "      <td>NaN</td>\n",
       "      <td>Citation</td>\n",
       "      <td>False</td>\n",
       "      <td>0-15 Min</td>\n",
       "      <td>False</td>\n",
       "    </tr>\n",
       "  </tbody>\n",
       "</table>\n",
       "</div>"
      ],
      "text/plain": [
       "    stop_date stop_time driver_gender  driver_age_raw  driver_age driver_race  \\\n",
       "0  2005-01-02     01:55             M          1985.0        20.0       White   \n",
       "1  2005-01-18     08:15             M          1965.0        40.0       White   \n",
       "2  2005-01-23     23:15             M          1972.0        33.0       White   \n",
       "3  2005-02-20     17:15             M          1986.0        19.0       White   \n",
       "4  2005-03-14     10:00             F          1984.0        21.0       White   \n",
       "\n",
       "      violation_raw violation  search_conducted search_type   stop_outcome  \\\n",
       "0          Speeding  Speeding             False         NaN       Citation   \n",
       "1          Speeding  Speeding             False         NaN       Citation   \n",
       "2          Speeding  Speeding             False         NaN       Citation   \n",
       "3  Call for Service     Other             False         NaN  Arrest Driver   \n",
       "4          Speeding  Speeding             False         NaN       Citation   \n",
       "\n",
       "  is_arrested stop_duration  drugs_related_stop  \n",
       "0       False      0-15 Min               False  \n",
       "1       False      0-15 Min               False  \n",
       "2       False      0-15 Min               False  \n",
       "3        True     16-30 Min               False  \n",
       "4       False      0-15 Min               False  "
      ]
     },
     "execution_count": 15,
     "metadata": {},
     "output_type": "execute_result"
    }
   ],
   "source": [
    "ri.head()"
   ]
  },
  {
   "cell_type": "code",
   "execution_count": 16,
   "metadata": {},
   "outputs": [
    {
     "data": {
      "text/plain": [
       "(91741, 14)"
      ]
     },
     "execution_count": 16,
     "metadata": {},
     "output_type": "execute_result"
    }
   ],
   "source": [
    "ri.shape"
   ]
  },
  {
   "cell_type": "code",
   "execution_count": 17,
   "metadata": {},
   "outputs": [
    {
     "data": {
      "text/plain": [
       "Index(['stop_date', 'stop_time', 'driver_gender', 'driver_age_raw',\n",
       "       'driver_age', 'driver_race', 'violation_raw', 'violation',\n",
       "       'search_conducted', 'search_type', 'stop_outcome', 'is_arrested',\n",
       "       'stop_duration', 'drugs_related_stop'],\n",
       "      dtype='object')"
      ]
     },
     "execution_count": 17,
     "metadata": {},
     "output_type": "execute_result"
    }
   ],
   "source": [
    "ri.columns"
   ]
  },
  {
   "cell_type": "code",
   "execution_count": 18,
   "metadata": {
    "collapsed": true
   },
   "outputs": [],
   "source": [
    "## do men or women speed more often\n",
    "## driver_gender , vialotion"
   ]
  },
  {
   "cell_type": "code",
   "execution_count": 19,
   "metadata": {},
   "outputs": [
    {
     "data": {
      "text/plain": [
       "M    32979\n",
       "F    15482\n",
       "Name: driver_gender, dtype: int64"
      ]
     },
     "execution_count": 19,
     "metadata": {},
     "output_type": "execute_result"
    }
   ],
   "source": [
    "ri[ri.violation == 'Speeding'].driver_gender.value_counts()"
   ]
  },
  {
   "cell_type": "code",
   "execution_count": 20,
   "metadata": {},
   "outputs": [
    {
     "data": {
      "text/plain": [
       "M    0.680527\n",
       "F    0.319473\n",
       "Name: driver_gender, dtype: float64"
      ]
     },
     "execution_count": 20,
     "metadata": {},
     "output_type": "execute_result"
    }
   ],
   "source": [
    "## get the result in percentage\n",
    "ri[ri.violation == 'Speeding'].driver_gender.value_counts(normalize = True)"
   ]
  },
  {
   "cell_type": "code",
   "execution_count": 21,
   "metadata": {
    "collapsed": true
   },
   "outputs": [],
   "source": [
    "## how often a man is pulled over its speeding\n"
   ]
  },
  {
   "cell_type": "code",
   "execution_count": 23,
   "metadata": {},
   "outputs": [
    {
     "data": {
      "text/plain": [
       "Speeding               0.524350\n",
       "Moving violation       0.207012\n",
       "Equipment              0.135671\n",
       "Other                  0.057668\n",
       "Registration/plates    0.038461\n",
       "Seat belt              0.036839\n",
       "Name: violation, dtype: float64"
      ]
     },
     "execution_count": 23,
     "metadata": {},
     "output_type": "execute_result"
    }
   ],
   "source": [
    "ri[ri.driver_gender == \"M\"].violation.value_counts(normalize = True)"
   ]
  },
  {
   "cell_type": "code",
   "execution_count": 24,
   "metadata": {},
   "outputs": [
    {
     "data": {
      "text/plain": [
       "Speeding               0.658500\n",
       "Moving violation       0.136277\n",
       "Equipment              0.105780\n",
       "Registration/plates    0.043086\n",
       "Other                  0.029348\n",
       "Seat belt              0.027009\n",
       "Name: violation, dtype: float64"
      ]
     },
     "execution_count": 24,
     "metadata": {},
     "output_type": "execute_result"
    }
   ],
   "source": [
    "ri[ri.driver_gender == \"F\"].violation.value_counts(normalize = True)"
   ]
  },
  {
   "cell_type": "code",
   "execution_count": 25,
   "metadata": {
    "collapsed": true
   },
   "outputs": [],
   "source": [
    "## both the above codes in one line"
   ]
  },
  {
   "cell_type": "code",
   "execution_count": 26,
   "metadata": {},
   "outputs": [
    {
     "data": {
      "text/plain": [
       "driver_gender  violation          \n",
       "F              Speeding               0.658500\n",
       "               Moving violation       0.136277\n",
       "               Equipment              0.105780\n",
       "               Registration/plates    0.043086\n",
       "               Other                  0.029348\n",
       "               Seat belt              0.027009\n",
       "M              Speeding               0.524350\n",
       "               Moving violation       0.207012\n",
       "               Equipment              0.135671\n",
       "               Other                  0.057668\n",
       "               Registration/plates    0.038461\n",
       "               Seat belt              0.036839\n",
       "Name: violation, dtype: float64"
      ]
     },
     "execution_count": 26,
     "metadata": {},
     "output_type": "execute_result"
    }
   ],
   "source": [
    "ri.groupby('driver_gender').violation.value_counts(normalize = True)"
   ]
  },
  {
   "cell_type": "code",
   "execution_count": 27,
   "metadata": {},
   "outputs": [
    {
     "data": {
      "text/html": [
       "<div>\n",
       "<style scoped>\n",
       "    .dataframe tbody tr th:only-of-type {\n",
       "        vertical-align: middle;\n",
       "    }\n",
       "\n",
       "    .dataframe tbody tr th {\n",
       "        vertical-align: top;\n",
       "    }\n",
       "\n",
       "    .dataframe thead th {\n",
       "        text-align: right;\n",
       "    }\n",
       "</style>\n",
       "<table border=\"1\" class=\"dataframe\">\n",
       "  <thead>\n",
       "    <tr style=\"text-align: right;\">\n",
       "      <th>violation</th>\n",
       "      <th>Equipment</th>\n",
       "      <th>Moving violation</th>\n",
       "      <th>Other</th>\n",
       "      <th>Registration/plates</th>\n",
       "      <th>Seat belt</th>\n",
       "      <th>Speeding</th>\n",
       "    </tr>\n",
       "    <tr>\n",
       "      <th>driver_gender</th>\n",
       "      <th></th>\n",
       "      <th></th>\n",
       "      <th></th>\n",
       "      <th></th>\n",
       "      <th></th>\n",
       "      <th></th>\n",
       "    </tr>\n",
       "  </thead>\n",
       "  <tbody>\n",
       "    <tr>\n",
       "      <th>F</th>\n",
       "      <td>0.105780</td>\n",
       "      <td>0.136277</td>\n",
       "      <td>0.029348</td>\n",
       "      <td>0.043086</td>\n",
       "      <td>0.027009</td>\n",
       "      <td>0.65850</td>\n",
       "    </tr>\n",
       "    <tr>\n",
       "      <th>M</th>\n",
       "      <td>0.135671</td>\n",
       "      <td>0.207012</td>\n",
       "      <td>0.057668</td>\n",
       "      <td>0.038461</td>\n",
       "      <td>0.036839</td>\n",
       "      <td>0.52435</td>\n",
       "    </tr>\n",
       "  </tbody>\n",
       "</table>\n",
       "</div>"
      ],
      "text/plain": [
       "violation      Equipment  Moving violation     Other  Registration/plates  \\\n",
       "driver_gender                                                               \n",
       "F               0.105780          0.136277  0.029348             0.043086   \n",
       "M               0.135671          0.207012  0.057668             0.038461   \n",
       "\n",
       "violation      Seat belt  Speeding  \n",
       "driver_gender                       \n",
       "F               0.027009   0.65850  \n",
       "M               0.036839   0.52435  "
      ]
     },
     "execution_count": 27,
     "metadata": {},
     "output_type": "execute_result"
    }
   ],
   "source": [
    "ri.groupby('driver_gender').violation.value_counts(normalize = True).unstack()"
   ]
  },
  {
   "cell_type": "code",
   "execution_count": 28,
   "metadata": {
    "collapsed": true
   },
   "outputs": [],
   "source": [
    "## does gender effect who gets searched\n",
    "## driver_gender, search_conducted"
   ]
  },
  {
   "cell_type": "code",
   "execution_count": 30,
   "metadata": {},
   "outputs": [
    {
     "data": {
      "text/plain": [
       "False    88545\n",
       "True      3196\n",
       "Name: search_conducted, dtype: int64"
      ]
     },
     "execution_count": 30,
     "metadata": {},
     "output_type": "execute_result"
    }
   ],
   "source": [
    "ri.search_conducted.value_counts()"
   ]
  },
  {
   "cell_type": "code",
   "execution_count": 31,
   "metadata": {},
   "outputs": [
    {
     "data": {
      "text/plain": [
       "0.03483720473942948"
      ]
     },
     "execution_count": 31,
     "metadata": {},
     "output_type": "execute_result"
    }
   ],
   "source": [
    "ri.search_conducted.mean()"
   ]
  },
  {
   "cell_type": "code",
   "execution_count": 32,
   "metadata": {},
   "outputs": [
    {
     "data": {
      "text/plain": [
       "driver_gender\n",
       "F    0.020033\n",
       "M    0.043326\n",
       "Name: search_conducted, dtype: float64"
      ]
     },
     "execution_count": 32,
     "metadata": {},
     "output_type": "execute_result"
    }
   ],
   "source": [
    "ri.groupby('driver_gender').search_conducted.mean()"
   ]
  },
  {
   "cell_type": "code",
   "execution_count": 33,
   "metadata": {
    "collapsed": true
   },
   "outputs": [],
   "source": [
    "## group by 2 columns\n",
    "## what cause search_conducted -- what is the underlying reason"
   ]
  },
  {
   "cell_type": "code",
   "execution_count": 35,
   "metadata": {},
   "outputs": [
    {
     "data": {
      "text/plain": [
       "violation            driver_gender\n",
       "Equipment            F                0.042622\n",
       "                     M                0.070081\n",
       "Moving violation     F                0.036205\n",
       "                     M                0.059831\n",
       "Other                F                0.056522\n",
       "                     M                0.047146\n",
       "Registration/plates  F                0.066140\n",
       "                     M                0.110376\n",
       "Seat belt            F                0.012598\n",
       "                     M                0.037980\n",
       "Speeding             F                0.008720\n",
       "                     M                0.024925\n",
       "Name: search_conducted, dtype: float64"
      ]
     },
     "execution_count": 35,
     "metadata": {},
     "output_type": "execute_result"
    }
   ],
   "source": [
    "ri.groupby(['violation', 'driver_gender']).search_conducted.mean()"
   ]
  },
  {
   "cell_type": "code",
   "execution_count": 36,
   "metadata": {},
   "outputs": [
    {
     "data": {
      "text/plain": [
       "stop_date                 0\n",
       "stop_time                 0\n",
       "driver_gender          5335\n",
       "driver_age_raw         5327\n",
       "driver_age             5621\n",
       "driver_race            5333\n",
       "violation_raw          5333\n",
       "violation              5333\n",
       "search_conducted          0\n",
       "search_type           88545\n",
       "stop_outcome           5333\n",
       "is_arrested            5333\n",
       "stop_duration          5333\n",
       "drugs_related_stop        0\n",
       "dtype: int64"
      ]
     },
     "execution_count": 36,
     "metadata": {},
     "output_type": "execute_result"
    }
   ],
   "source": [
    "ri.isna().sum()"
   ]
  },
  {
   "cell_type": "code",
   "execution_count": 37,
   "metadata": {
    "collapsed": true
   },
   "outputs": [],
   "source": [
    "##  why search_type has 88545 missing value\n"
   ]
  },
  {
   "cell_type": "code",
   "execution_count": 38,
   "metadata": {},
   "outputs": [
    {
     "data": {
      "text/plain": [
       "False    88545\n",
       "True      3196\n",
       "Name: search_conducted, dtype: int64"
      ]
     },
     "execution_count": 38,
     "metadata": {},
     "output_type": "execute_result"
    }
   ],
   "source": [
    "ri.search_conducted.value_counts()"
   ]
  },
  {
   "cell_type": "code",
   "execution_count": 39,
   "metadata": {
    "collapsed": true
   },
   "outputs": [],
   "source": [
    "## because search was not conducted 88545 times, "
   ]
  },
  {
   "cell_type": "code",
   "execution_count": 40,
   "metadata": {},
   "outputs": [
    {
     "data": {
      "text/plain": [
       "Incident to Arrest                                          1219\n",
       "Probable Cause                                               891\n",
       "Inventory                                                    220\n",
       "Reasonable Suspicion                                         197\n",
       "Protective Frisk                                             161\n",
       "Incident to Arrest,Inventory                                 129\n",
       "Incident to Arrest,Probable Cause                            106\n",
       "Probable Cause,Reasonable Suspicion                           75\n",
       "Incident to Arrest,Inventory,Probable Cause                   34\n",
       "Probable Cause,Protective Frisk                               33\n",
       "Incident to Arrest,Protective Frisk                           33\n",
       "Inventory,Probable Cause                                      22\n",
       "Incident to Arrest,Reasonable Suspicion                       13\n",
       "Incident to Arrest,Inventory,Protective Frisk                 11\n",
       "Protective Frisk,Reasonable Suspicion                         11\n",
       "Inventory,Protective Frisk                                    11\n",
       "Incident to Arrest,Probable Cause,Protective Frisk            10\n",
       "Incident to Arrest,Probable Cause,Reasonable Suspicion         6\n",
       "Incident to Arrest,Inventory,Reasonable Suspicion              4\n",
       "Inventory,Reasonable Suspicion                                 4\n",
       "Inventory,Probable Cause,Protective Frisk                      2\n",
       "Inventory,Probable Cause,Reasonable Suspicion                  2\n",
       "Probable Cause,Protective Frisk,Reasonable Suspicion           1\n",
       "Incident to Arrest,Protective Frisk,Reasonable Suspicion       1\n",
       "Name: search_type, dtype: int64"
      ]
     },
     "execution_count": 40,
     "metadata": {},
     "output_type": "execute_result"
    }
   ],
   "source": [
    "ri.search_type.value_counts()"
   ]
  },
  {
   "cell_type": "code",
   "execution_count": 41,
   "metadata": {
    "collapsed": true
   },
   "outputs": [],
   "source": [
    "## recheck above condition"
   ]
  },
  {
   "cell_type": "code",
   "execution_count": 43,
   "metadata": {},
   "outputs": [
    {
     "data": {
      "text/plain": [
       "Series([], Name: search_type, dtype: int64)"
      ]
     },
     "execution_count": 43,
     "metadata": {},
     "output_type": "execute_result"
    }
   ],
   "source": [
    "ri[ri.search_conducted == False].search_type.value_counts()"
   ]
  },
  {
   "cell_type": "code",
   "execution_count": 44,
   "metadata": {
    "collapsed": true
   },
   "outputs": [],
   "source": [
    "## it return a empty string"
   ]
  },
  {
   "cell_type": "code",
   "execution_count": 47,
   "metadata": {},
   "outputs": [
    {
     "data": {
      "text/plain": [
       "NaN    88545\n",
       "Name: search_type, dtype: int64"
      ]
     },
     "execution_count": 47,
     "metadata": {},
     "output_type": "execute_result"
    }
   ],
   "source": [
    "ri[ri.search_conducted == False].search_type.value_counts(dropna= False)"
   ]
  },
  {
   "cell_type": "code",
   "execution_count": 48,
   "metadata": {
    "collapsed": true
   },
   "outputs": [],
   "source": [
    "## during a search how often a driver is frisked"
   ]
  },
  {
   "cell_type": "code",
   "execution_count": 49,
   "metadata": {
    "collapsed": true
   },
   "outputs": [],
   "source": [
    "## pandas string method"
   ]
  },
  {
   "cell_type": "code",
   "execution_count": 52,
   "metadata": {
    "collapsed": true
   },
   "outputs": [],
   "source": [
    "ri['frisk'] =ri.search_type.str.contains('Protective Frisk').head()"
   ]
  },
  {
   "cell_type": "code",
   "execution_count": 53,
   "metadata": {},
   "outputs": [
    {
     "data": {
      "text/plain": [
       "0    NaN\n",
       "1    NaN\n",
       "2    NaN\n",
       "3    NaN\n",
       "4    NaN\n",
       "Name: frisk, dtype: object"
      ]
     },
     "execution_count": 53,
     "metadata": {},
     "output_type": "execute_result"
    }
   ],
   "source": [
    "ri['frisk'].head()"
   ]
  },
  {
   "cell_type": "code",
   "execution_count": 7,
   "metadata": {},
   "outputs": [
    {
     "data": {
      "text/plain": [
       "0.03483720473942948"
      ]
     },
     "execution_count": 7,
     "metadata": {},
     "output_type": "execute_result"
    }
   ],
   "source": [
    "ri.search_conducted.mean()"
   ]
  },
  {
   "cell_type": "code",
   "execution_count": 10,
   "metadata": {},
   "outputs": [
    {
     "data": {
      "text/plain": [
       "driver_gender\n",
       "F    0.020033\n",
       "M    0.043326\n",
       "Name: search_conducted, dtype: float64"
      ]
     },
     "execution_count": 10,
     "metadata": {},
     "output_type": "execute_result"
    }
   ],
   "source": [
    "ri.groupby('driver_gender').search_conducted.mean()"
   ]
  },
  {
   "cell_type": "code",
   "execution_count": 12,
   "metadata": {
    "collapsed": true
   },
   "outputs": [],
   "source": [
    "## females are searched at 0.02 % times\n",
    "## males rae searched at 0.04% times\n",
    "### does this proove gender gets searched"
   ]
  },
  {
   "cell_type": "code",
   "execution_count": 13,
   "metadata": {},
   "outputs": [
    {
     "data": {
      "text/plain": [
       "driver_gender  violation          \n",
       "F              Equipment              0.042622\n",
       "               Moving violation       0.036205\n",
       "               Other                  0.056522\n",
       "               Registration/plates    0.066140\n",
       "               Seat belt              0.012598\n",
       "               Speeding               0.008720\n",
       "M              Equipment              0.070081\n",
       "               Moving violation       0.059831\n",
       "               Other                  0.047146\n",
       "               Registration/plates    0.110376\n",
       "               Seat belt              0.037980\n",
       "               Speeding               0.024925\n",
       "Name: search_conducted, dtype: float64"
      ]
     },
     "execution_count": 13,
     "metadata": {},
     "output_type": "execute_result"
    }
   ],
   "source": [
    "ri.groupby(['driver_gender', 'violation']).search_conducted.mean()"
   ]
  },
  {
   "cell_type": "code",
   "execution_count": 15,
   "metadata": {},
   "outputs": [
    {
     "data": {
      "text/plain": [
       "stop_date                 0\n",
       "stop_time                 0\n",
       "county_name           91741\n",
       "driver_gender          5335\n",
       "driver_age_raw         5327\n",
       "driver_age             5621\n",
       "driver_race            5333\n",
       "violation_raw          5333\n",
       "violation              5333\n",
       "search_conducted          0\n",
       "search_type           88545\n",
       "stop_outcome           5333\n",
       "is_arrested            5333\n",
       "stop_duration          5333\n",
       "drugs_related_stop        0\n",
       "dtype: int64"
      ]
     },
     "execution_count": 15,
     "metadata": {},
     "output_type": "execute_result"
    }
   ],
   "source": [
    "ri.isnull().sum()"
   ]
  },
  {
   "cell_type": "code",
   "execution_count": 16,
   "metadata": {
    "collapsed": true
   },
   "outputs": [],
   "source": [
    "## why is search type missing so much\n",
    "## theory says - search conducted was false"
   ]
  },
  {
   "cell_type": "code",
   "execution_count": 17,
   "metadata": {},
   "outputs": [
    {
     "data": {
      "text/plain": [
       "False    88545\n",
       "True      3196\n",
       "Name: search_conducted, dtype: int64"
      ]
     },
     "execution_count": 17,
     "metadata": {},
     "output_type": "execute_result"
    }
   ],
   "source": [
    "ri.search_conducted.value_counts()"
   ]
  },
  {
   "cell_type": "code",
   "execution_count": 18,
   "metadata": {},
   "outputs": [
    {
     "data": {
      "text/plain": [
       "Incident to Arrest                                          1219\n",
       "Probable Cause                                               891\n",
       "Inventory                                                    220\n",
       "Reasonable Suspicion                                         197\n",
       "Protective Frisk                                             161\n",
       "Incident to Arrest,Inventory                                 129\n",
       "Incident to Arrest,Probable Cause                            106\n",
       "Probable Cause,Reasonable Suspicion                           75\n",
       "Incident to Arrest,Inventory,Probable Cause                   34\n",
       "Probable Cause,Protective Frisk                               33\n",
       "Incident to Arrest,Protective Frisk                           33\n",
       "Inventory,Probable Cause                                      22\n",
       "Incident to Arrest,Reasonable Suspicion                       13\n",
       "Inventory,Protective Frisk                                    11\n",
       "Protective Frisk,Reasonable Suspicion                         11\n",
       "Incident to Arrest,Inventory,Protective Frisk                 11\n",
       "Incident to Arrest,Probable Cause,Protective Frisk            10\n",
       "Incident to Arrest,Probable Cause,Reasonable Suspicion         6\n",
       "Inventory,Reasonable Suspicion                                 4\n",
       "Incident to Arrest,Inventory,Reasonable Suspicion              4\n",
       "Inventory,Probable Cause,Reasonable Suspicion                  2\n",
       "Inventory,Probable Cause,Protective Frisk                      2\n",
       "Incident to Arrest,Protective Frisk,Reasonable Suspicion       1\n",
       "Probable Cause,Protective Frisk,Reasonable Suspicion           1\n",
       "Name: search_type, dtype: int64"
      ]
     },
     "execution_count": 18,
     "metadata": {},
     "output_type": "execute_result"
    }
   ],
   "source": [
    "ri.search_type.value_counts()"
   ]
  },
  {
   "cell_type": "code",
   "execution_count": 19,
   "metadata": {},
   "outputs": [
    {
     "data": {
      "text/plain": [
       "Series([], Name: search_type, dtype: int64)"
      ]
     },
     "execution_count": 19,
     "metadata": {},
     "output_type": "execute_result"
    }
   ],
   "source": [
    "ri[ri.search_conducted == False].search_type.value_counts()"
   ]
  },
  {
   "cell_type": "code",
   "execution_count": 21,
   "metadata": {
    "collapsed": true
   },
   "outputs": [],
   "source": [
    "## why is the above code throwing a empty series\n",
    "## By default dropna is true, w have to make it false"
   ]
  },
  {
   "cell_type": "code",
   "execution_count": 23,
   "metadata": {},
   "outputs": [
    {
     "data": {
      "text/plain": [
       "NaN    88545\n",
       "Name: search_type, dtype: int64"
      ]
     },
     "execution_count": 23,
     "metadata": {},
     "output_type": "execute_result"
    }
   ],
   "source": [
    "ri[ri.search_conducted == False].search_type.value_counts(dropna = False)"
   ]
  },
  {
   "cell_type": "code",
   "execution_count": 24,
   "metadata": {
    "collapsed": true
   },
   "outputs": [],
   "source": [
    "## during a search how oftena diver is frisked"
   ]
  },
  {
   "cell_type": "code",
   "execution_count": 25,
   "metadata": {
    "collapsed": true
   },
   "outputs": [],
   "source": [
    "## here we will go with pandas string methods"
   ]
  },
  {
   "cell_type": "code",
   "execution_count": 27,
   "metadata": {
    "collapsed": true
   },
   "outputs": [],
   "source": [
    "ri['frisk'] = ri.search_type.str.contains('Protective Frisk')"
   ]
  },
  {
   "cell_type": "code",
   "execution_count": 28,
   "metadata": {},
   "outputs": [
    {
     "data": {
      "text/plain": [
       "False    2922\n",
       "True      274\n",
       "Name: frisk, dtype: int64"
      ]
     },
     "execution_count": 28,
     "metadata": {},
     "output_type": "execute_result"
    }
   ],
   "source": [
    "ri.frisk.value_counts()"
   ]
  },
  {
   "cell_type": "code",
   "execution_count": 29,
   "metadata": {},
   "outputs": [
    {
     "data": {
      "text/plain": [
       "NaN      88545\n",
       "False     2922\n",
       "True       274\n",
       "Name: frisk, dtype: int64"
      ]
     },
     "execution_count": 29,
     "metadata": {},
     "output_type": "execute_result"
    }
   ],
   "source": [
    "ri.frisk.value_counts(dropna = False)"
   ]
  },
  {
   "cell_type": "code",
   "execution_count": 30,
   "metadata": {},
   "outputs": [
    {
     "data": {
      "text/plain": [
       "274"
      ]
     },
     "execution_count": 30,
     "metadata": {},
     "output_type": "execute_result"
    }
   ],
   "source": [
    "ri.frisk.sum()"
   ]
  },
  {
   "cell_type": "code",
   "execution_count": 31,
   "metadata": {},
   "outputs": [
    {
     "data": {
      "text/plain": [
       "0.08573216520650813"
      ]
     },
     "execution_count": 31,
     "metadata": {},
     "output_type": "execute_result"
    }
   ],
   "source": [
    "ri.frisk.mean()"
   ]
  },
  {
   "cell_type": "code",
   "execution_count": 32,
   "metadata": {
    "collapsed": true
   },
   "outputs": [],
   "source": [
    "## 6 . which year had the least no. of stops"
   ]
  },
  {
   "cell_type": "code",
   "execution_count": 39,
   "metadata": {},
   "outputs": [
    {
     "data": {
      "text/plain": [
       "0    2005-01-02\n",
       "1    2005-01-18\n",
       "2    2005-01-23\n",
       "3    2005-02-20\n",
       "4    2005-03-14\n",
       "Name: stop_date, dtype: object"
      ]
     },
     "execution_count": 39,
     "metadata": {},
     "output_type": "execute_result"
    }
   ],
   "source": [
    "ri.stop_date.head()"
   ]
  },
  {
   "cell_type": "code",
   "execution_count": 37,
   "metadata": {},
   "outputs": [
    {
     "data": {
      "text/plain": [
       "2012    10970\n",
       "2006    10639\n",
       "2007     9476\n",
       "2014     9228\n",
       "2008     8752\n",
       "2015     8599\n",
       "2011     8126\n",
       "2013     7924\n",
       "2009     7908\n",
       "2010     7561\n",
       "2005     2558\n",
       "Name: stop_date, dtype: int64"
      ]
     },
     "execution_count": 37,
     "metadata": {},
     "output_type": "execute_result"
    }
   ],
   "source": [
    "ri.stop_date.str.slice(0,4).value_counts()"
   ]
  },
  {
   "cell_type": "code",
   "execution_count": 40,
   "metadata": {
    "collapsed": true
   },
   "outputs": [],
   "source": [
    "## we must combile two coluns"
   ]
  },
  {
   "cell_type": "code",
   "execution_count": 6,
   "metadata": {
    "collapsed": true
   },
   "outputs": [],
   "source": [
    "combined  = ri.stop_date.str.cat(ri.stop_time, sep = ' ')"
   ]
  },
  {
   "cell_type": "code",
   "execution_count": 7,
   "metadata": {},
   "outputs": [
    {
     "data": {
      "text/plain": [
       "0    2005-01-02 01:55\n",
       "1    2005-01-18 08:15\n",
       "2    2005-01-23 23:15\n",
       "3    2005-02-20 17:15\n",
       "4    2005-03-14 10:00\n",
       "Name: stop_date, dtype: object"
      ]
     },
     "execution_count": 7,
     "metadata": {},
     "output_type": "execute_result"
    }
   ],
   "source": [
    "combined.head()"
   ]
  },
  {
   "cell_type": "code",
   "execution_count": 47,
   "metadata": {
    "collapsed": true
   },
   "outputs": [],
   "source": [
    "## convert \"combined\" to date time object"
   ]
  },
  {
   "cell_type": "code",
   "execution_count": 8,
   "metadata": {
    "collapsed": true
   },
   "outputs": [],
   "source": [
    "ri['stop_date_time']= pd.to_datetime(combined)"
   ]
  },
  {
   "cell_type": "code",
   "execution_count": 9,
   "metadata": {},
   "outputs": [
    {
     "data": {
      "text/plain": [
       "stop_date                     object\n",
       "stop_time                     object\n",
       "county_name                  float64\n",
       "driver_gender                 object\n",
       "driver_age_raw               float64\n",
       "driver_age                   float64\n",
       "driver_race                   object\n",
       "violation_raw                 object\n",
       "violation                     object\n",
       "search_conducted                bool\n",
       "search_type                   object\n",
       "stop_outcome                  object\n",
       "is_arrested                   object\n",
       "stop_duration                 object\n",
       "drugs_related_stop              bool\n",
       "stop_date_time        datetime64[ns]\n",
       "dtype: object"
      ]
     },
     "execution_count": 9,
     "metadata": {},
     "output_type": "execute_result"
    }
   ],
   "source": [
    "ri.dtypes"
   ]
  },
  {
   "cell_type": "code",
   "execution_count": 50,
   "metadata": {
    "collapsed": true
   },
   "outputs": [],
   "source": [
    "## how to get year from dateTime"
   ]
  },
  {
   "cell_type": "code",
   "execution_count": 52,
   "metadata": {},
   "outputs": [
    {
     "data": {
      "text/plain": [
       "0    2005\n",
       "1    2005\n",
       "2    2005\n",
       "3    2005\n",
       "4    2005\n",
       "Name: stop_date_time, dtype: int64"
      ]
     },
     "execution_count": 52,
     "metadata": {},
     "output_type": "execute_result"
    }
   ],
   "source": [
    "ri.stop_date_time.dt.year.head()"
   ]
  },
  {
   "cell_type": "code",
   "execution_count": 56,
   "metadata": {},
   "outputs": [
    {
     "data": {
      "text/plain": [
       "5    14204\n",
       "0    13237\n",
       "6    13202\n",
       "4    13164\n",
       "1    12929\n",
       "2    12549\n",
       "3    12456\n",
       "Name: stop_date_time, dtype: int64"
      ]
     },
     "execution_count": 56,
     "metadata": {},
     "output_type": "execute_result"
    }
   ],
   "source": [
    "ri.stop_date_time.dt.weekday.value_counts()"
   ]
  },
  {
   "cell_type": "code",
   "execution_count": 58,
   "metadata": {},
   "outputs": [
    {
     "data": {
      "text/plain": [
       "2013"
      ]
     },
     "execution_count": 58,
     "metadata": {},
     "output_type": "execute_result"
    }
   ],
   "source": [
    "ri.stop_date_time.dt.year.value_counts().sort_values().index[3]"
   ]
  },
  {
   "cell_type": "markdown",
   "metadata": {},
   "source": [
    "## plotting time series"
   ]
  },
  {
   "cell_type": "markdown",
   "metadata": {},
   "source": [
    "## 7. How does drug activity change bt time of day "
   ]
  },
  {
   "cell_type": "code",
   "execution_count": 19,
   "metadata": {},
   "outputs": [
    {
     "data": {
      "text/plain": [
       "stop_date_time\n",
       "0     0.019728\n",
       "1     0.013507\n",
       "2     0.015462\n",
       "3     0.017065\n",
       "4     0.011811\n",
       "5     0.004762\n",
       "6     0.003040\n",
       "7     0.003281\n",
       "8     0.002687\n",
       "9     0.006288\n",
       "10    0.005714\n",
       "11    0.006976\n",
       "12    0.004467\n",
       "13    0.010326\n",
       "14    0.007810\n",
       "15    0.006416\n",
       "16    0.005723\n",
       "17    0.005517\n",
       "18    0.010148\n",
       "19    0.011596\n",
       "20    0.008084\n",
       "21    0.013342\n",
       "22    0.013533\n",
       "23    0.016344\n",
       "Name: drugs_related_stop, dtype: float64"
      ]
     },
     "execution_count": 19,
     "metadata": {},
     "output_type": "execute_result"
    }
   ],
   "source": [
    "ri.groupby(ri.stop_date_time.dt.hour).drugs_related_stop.mean()"
   ]
  },
  {
   "cell_type": "code",
   "execution_count": 11,
   "metadata": {},
   "outputs": [
    {
     "data": {
      "text/plain": [
       "0.008883705213590434"
      ]
     },
     "execution_count": 11,
     "metadata": {},
     "output_type": "execute_result"
    }
   ],
   "source": [
    "ri.drugs_related_stop.mean()"
   ]
  },
  {
   "cell_type": "code",
   "execution_count": 15,
   "metadata": {
    "collapsed": true
   },
   "outputs": [],
   "source": [
    "## create a seperate column for hours, and then apply value counts"
   ]
  },
  {
   "cell_type": "code",
   "execution_count": 21,
   "metadata": {},
   "outputs": [
    {
     "data": {
      "text/plain": [
       "<matplotlib.axes._subplots.AxesSubplot at 0x1e89f97f630>"
      ]
     },
     "execution_count": 21,
     "metadata": {},
     "output_type": "execute_result"
    },
    {
     "data": {
      "image/png": "[encoded data removed]",
      "text/plain": [
       "<matplotlib.figure.Figure at 0x1e89f8687b8>"
      ]
     },
     "metadata": {},
     "output_type": "display_data"
    }
   ],
   "source": [
    "ri.groupby(ri.stop_date_time.dt.hour).drugs_related_stop.mean().plot()"
   ]
  },
  {
   "cell_type": "markdown",
   "metadata": {},
   "source": [
    "## do most stops occur at night"
   ]
  },
  {
   "cell_type": "code",
   "execution_count": 27,
   "metadata": {},
   "outputs": [
    {
     "data": {
      "text/plain": [
       "0     5221\n",
       "1     4442\n",
       "2     2975\n",
       "3     1172\n",
       "4      254\n",
       "5      210\n",
       "6     3290\n",
       "7     4572\n",
       "8     5210\n",
       "9     6838\n",
       "10    7350\n",
       "11    5877\n",
       "12    3582\n",
       "13    4842\n",
       "14    5634\n",
       "15    4832\n",
       "16    3844\n",
       "17    2900\n",
       "18    2168\n",
       "19    2587\n",
       "20    3340\n",
       "21    1499\n",
       "22    3473\n",
       "23    5629\n",
       "Name: stop_date_time, dtype: int64"
      ]
     },
     "execution_count": 27,
     "metadata": {},
     "output_type": "execute_result"
    }
   ],
   "source": [
    "ri.stop_date_time.dt.hour.value_counts().sort_index()"
   ]
  },
  {
   "cell_type": "code",
   "execution_count": 28,
   "metadata": {},
   "outputs": [
    {
     "data": {
      "text/plain": [
       "<matplotlib.axes._subplots.AxesSubplot at 0x1e8a1391ac8>"
      ]
     },
     "execution_count": 28,
     "metadata": {},
     "output_type": "execute_result"
    },
    {
     "data": {
      "image/png": "[encoded data removed]",
      "text/plain": [
       "<matplotlib.figure.Figure at 0x1e8a1391da0>"
      ]
     },
     "metadata": {},
     "output_type": "display_data"
    }
   ],
   "source": [
    "ri.stop_date_time.dt.hour.value_counts().sort_index().plot()"
   ]
  },
  {
   "cell_type": "markdown",
   "metadata": {},
   "source": [
    "## find bad data in stop duration column and fix it"
   ]
  },
  {
   "cell_type": "code",
   "execution_count": 35,
   "metadata": {},
   "outputs": [
    {
     "data": {
      "text/plain": [
       "0-15 Min     69543\n",
       "16-30 Min    13635\n",
       "NaN           5333\n",
       "30+ Min       3228\n",
       "2                1\n",
       "1                1\n",
       "Name: stop_duration, dtype: int64"
      ]
     },
     "execution_count": 35,
     "metadata": {},
     "output_type": "execute_result"
    }
   ],
   "source": [
    "ri.stop_duration.value_counts(dropna = False)"
   ]
  },
  {
   "cell_type": "code",
   "execution_count": 33,
   "metadata": {},
   "outputs": [
    {
     "data": {
      "text/plain": [
       "stop_date                 0\n",
       "stop_time                 0\n",
       "county_name           91741\n",
       "driver_gender          5335\n",
       "driver_age_raw         5327\n",
       "driver_age             5621\n",
       "driver_race            5333\n",
       "violation_raw          5333\n",
       "violation              5333\n",
       "search_conducted          0\n",
       "search_type           88545\n",
       "stop_outcome           5333\n",
       "is_arrested            5333\n",
       "stop_duration          5333\n",
       "drugs_related_stop        0\n",
       "stop_date_time            0\n",
       "dtype: int64"
      ]
     },
     "execution_count": 33,
     "metadata": {},
     "output_type": "execute_result"
    }
   ],
   "source": [
    "ri.isnull().sum()"
   ]
  },
  {
   "cell_type": "code",
   "execution_count": 36,
   "metadata": {
    "collapsed": true
   },
   "outputs": [],
   "source": [
    "## replace it by something else"
   ]
  },
  {
   "cell_type": "code",
   "execution_count": null,
   "metadata": {
    "collapsed": true
   },
   "outputs": [],
   "source": []
  }
 ],
 "metadata": {
  "kernelspec": {
   "display_name": "Python 3",
   "language": "python",
   "name": "python3"
  },
  "language_info": {
   "codemirror_mode": {
    "name": "ipython",
    "version": 3
   },
   "file_extension": ".py",
   "mimetype": "text/x-python",
   "name": "python",
   "nbconvert_exporter": "python",
   "pygments_lexer": "ipython3",
   "version": "3.6.3"
  }
 },
 "nbformat": 4,
 "nbformat_minor": 2
}
